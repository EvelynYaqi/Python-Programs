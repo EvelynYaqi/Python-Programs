{
 "cells": [
  {
   "cell_type": "markdown",
   "id": "0c2c0c6e",
   "metadata": {},
   "source": [
    "#Importing Matrix"
   ]
  },
  {
   "cell_type": "code",
   "execution_count": 15,
   "id": "16f2e0f6",
   "metadata": {},
   "outputs": [
    {
     "name": "stdout",
     "output_type": "stream",
     "text": [
      "Enter the dimension of input matrix:3\n",
      "Value of A[1,1] : 2\n",
      "Value of A[1,2] : 3\n",
      "Value of A[1,3] : 2\n",
      "Value of A[2,1] : 4\n",
      "Value of A[2,2] : 7\n",
      "Value of A[2,3] : 7\n",
      "Value of A[3,1] : 6\n",
      "Value of A[3,2] : 8\n",
      "Value of A[3,3] : 8\n"
     ]
    }
   ],
   "source": [
    "A=[]\n",
    "L=[]\n",
    "U=[]\n",
    "row_A = col_A = int(input(\"Enter the dimension of input matrix:\"))\n",
    "for i in range(row_A):\n",
    "    row = []\n",
    "    for j in range(col_A):\n",
    "        k = int(input(f\"Value of A[{i+1},{j+1}] : \"))\n",
    "        row.append(k)\n",
    "    A.append(row)"
   ]
  },
  {
   "cell_type": "markdown",
   "id": "5aae7c42",
   "metadata": {},
   "source": [
    "# LU Decompositon"
   ]
  },
  {
   "cell_type": "code",
   "execution_count": 16,
   "id": "6c0b6b9d",
   "metadata": {},
   "outputs": [
    {
     "ename": "IndexError",
     "evalue": "list index out of range",
     "output_type": "error",
     "traceback": [
      "\u001b[0;31m---------------------------------------------------------------------------\u001b[0m",
      "\u001b[0;31mIndexError\u001b[0m                                Traceback (most recent call last)",
      "Cell \u001b[0;32mIn[16], line 21\u001b[0m\n\u001b[1;32m     19\u001b[0m                 \u001b[38;5;28;01mfor\u001b[39;00m k \u001b[38;5;129;01min\u001b[39;00m \u001b[38;5;28mrange\u001b[39m(i):\n\u001b[1;32m     20\u001b[0m                     sum_l \u001b[38;5;241m=\u001b[39m sum_l \u001b[38;5;241m+\u001b[39m L[j][k] \u001b[38;5;241m*\u001b[39m U[k][i]\n\u001b[0;32m---> 21\u001b[0m                 L[j][i] \u001b[38;5;241m=\u001b[39m (A[j][i] \u001b[38;5;241m-\u001b[39m sum_l) \u001b[38;5;241m/\u001b[39m U[i][i]\n\u001b[1;32m     22\u001b[0m \u001b[38;5;28mprint\u001b[39m (\u001b[38;5;124m\"\u001b[39m\u001b[38;5;124mL = \u001b[39m\u001b[38;5;124m\"\u001b[39m,L,\u001b[38;5;124m\"\u001b[39m\u001b[38;5;124mU = \u001b[39m\u001b[38;5;124m\"\u001b[39m,U)\n",
      "\u001b[0;31mIndexError\u001b[0m: list index out of range"
     ]
    }
   ],
   "source": [
    "for i in range(row_A):\n",
    "    row = []\n",
    "    for j in range(col_A):\n",
    "        row.append(0)\n",
    "    L.append(row)\n",
    "    U.append(row)\n",
    "    for i in range(row_A):\n",
    "        L[i][i] = 1  #diagonal elements are 1\n",
    "\n",
    "        for j in range(i, row_A):\n",
    "            sum_u = 0\n",
    "            for k in range(i):\n",
    "                sum_u = sum_u + L[i][k] * U[k][j]\n",
    "            U[i][j] = A[i][j] - sum_u\n",
    "\n",
    "        if i+1 < row_A:\n",
    "            for j in range(i + 1, row_A):\n",
    "                sum_l = 0\n",
    "                for k in range(i):\n",
    "                    sum_l = sum_l + L[j][k] * U[k][i]\n",
    "                L[j][i] = (A[j][i] - sum_l) / U[i][i]\n",
    "print (\"L = \",L,\"U = \",U)"
   ]
  },
  {
   "cell_type": "code",
   "execution_count": null,
   "id": "1a047db0",
   "metadata": {},
   "outputs": [],
   "source": []
  },
  {
   "cell_type": "code",
   "execution_count": null,
   "id": "a7cff0c8",
   "metadata": {},
   "outputs": [],
   "source": []
  }
 ],
 "metadata": {
  "kernelspec": {
   "display_name": "Python 3 (ipykernel)",
   "language": "python",
   "name": "python3"
  },
  "language_info": {
   "codemirror_mode": {
    "name": "ipython",
    "version": 3
   },
   "file_extension": ".py",
   "mimetype": "text/x-python",
   "name": "python",
   "nbconvert_exporter": "python",
   "pygments_lexer": "ipython3",
   "version": "3.11.4"
  }
 },
 "nbformat": 4,
 "nbformat_minor": 5
}

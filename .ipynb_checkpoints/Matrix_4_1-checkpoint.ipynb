{
 "cells": [
  {
   "cell_type": "markdown",
   "id": "7a96b12d",
   "metadata": {},
   "source": [
    "# Creating a random matrix , compressing it to CSR and then regenerating it"
   ]
  },
  {
   "cell_type": "markdown",
   "id": "612b4f95",
   "metadata": {},
   "source": [
    "##Creating a random matrix"
   ]
  },
  {
   "cell_type": "code",
   "execution_count": 50,
   "id": "6e8ef5e7",
   "metadata": {
    "scrolled": true
   },
   "outputs": [
    {
     "name": "stdout",
     "output_type": "stream",
     "text": [
      "Enter the dimension of the matrix:3\n",
      "[[[3], [0], [3]], [[4], [2], [4]], [[1], [0], [3]]]\n"
     ]
    }
   ],
   "source": [
    "import random as rand\n",
    "choices = [0,1,2,3,4,5]\n",
    "weights = [0.4,0.15,0.15,0.1,0.1,0.1]\n",
    "def dice():\n",
    "\tdice = (rand.choices(choices, weights))         \n",
    "\treturn dice\n",
    "n = int(input(\"Enter the dimension of the matrix:\"))\n",
    "matrix = []\n",
    "for i in range(n):\n",
    "    row = []  \n",
    "    for j in range(n):\n",
    "        row.append(dice())  # Fill the row with values\n",
    "    matrix.append(row)  # Add the row to the matrix\n",
    "print(matrix)"
   ]
  },
  {
   "cell_type": "markdown",
   "id": "52e35c1b",
   "metadata": {},
   "source": [
    "##Compressing the matrix to CSR format"
   ]
  },
  {
   "cell_type": "code",
   "execution_count": 51,
   "id": "fee659da",
   "metadata": {},
   "outputs": [
    {
     "name": "stdout",
     "output_type": "stream",
     "text": [
      "value: [3, 3, 4, 2, 4, 1, 3] \n",
      " col_ind: [0, 2, 0, 1, 2, 0, 2] \n",
      " row_ind: [0, 2, 5]\n"
     ]
    }
   ],
   "source": [
    "value = []\n",
    "col_ind = []\n",
    "row_ind = []\n",
    "N = 0\n",
    "for i in range(n):\n",
    "    row_ind.append(len(value))\n",
    "    for j in range(n):\n",
    "        if matrix[i][j][0] != 0:\n",
    "            value.append(matrix[i][j][0])\n",
    "            col_ind.append(j)\n",
    "            N = N+1\n",
    "print(\"value:\",value,\"\\n\",\"col_ind:\",col_ind,\"\\n\",\"row_ind:\",row_ind)\n",
    "        "
   ]
  },
  {
   "cell_type": "markdown",
   "id": "cd3e4c07",
   "metadata": {},
   "source": [
    "##Regenarting matrix using CSR"
   ]
  },
  {
   "cell_type": "code",
   "execution_count": 52,
   "id": "e35679a7",
   "metadata": {},
   "outputs": [],
   "source": [
    "reg_matrix = [[0] * n for _ in range(n)]\n"
   ]
  },
  {
   "cell_type": "code",
   "execution_count": 53,
   "id": "9b726ccb",
   "metadata": {},
   "outputs": [
    {
     "name": "stdout",
     "output_type": "stream",
     "text": [
      "[[3, 0, 3], [4, 2, 4], [1, 0, 3]]\n"
     ]
    }
   ],
   "source": [
    "row = 0\n",
    "col = 0\n",
    "for i in range(n-1):\n",
    "    if row_ind[i] != row_ind[i+1]:\n",
    "        for j in range(row_ind[i],row_ind[i+1]):\n",
    "            reg_matrix[i][col_ind[j]] = value[j]\n",
    "for i in range(row_ind[n-1],N):\n",
    "    reg_matrix[n-1][col_ind[i]] = value[i]\n",
    "print(reg_matrix)"
   ]
  },
  {
   "cell_type": "markdown",
   "id": "4685f3a6",
   "metadata": {},
   "source": [
    "##Generating a random vector of length n"
   ]
  },
  {
   "cell_type": "code",
   "execution_count": 54,
   "id": "f1a0c450",
   "metadata": {},
   "outputs": [
    {
     "name": "stdout",
     "output_type": "stream",
     "text": [
      "[[7], [1], [2]]\n"
     ]
    }
   ],
   "source": [
    "choices = [0,1,2,3,4,5,6,7,8,9]\n",
    "weights = [0.1,0.1,0.1,0.1,0.1,0.1,0.1,0.1,0.1,0.1]\n",
    "def dice_roll():\n",
    "\tdice = (rand.choices(choices, weights))         \n",
    "\treturn dice\n",
    "vector = []\n",
    "for i in range(n):\n",
    "    vector.append(dice_roll())\n",
    "print(vector)"
   ]
  },
  {
   "cell_type": "markdown",
   "id": "1a4b55f1",
   "metadata": {},
   "source": [
    "##Multiplying matrix with a vector using CSR outputs"
   ]
  },
  {
   "cell_type": "code",
   "execution_count": 55,
   "id": "68022efa",
   "metadata": {},
   "outputs": [
    {
     "name": "stdout",
     "output_type": "stream",
     "text": [
      "[27, 38, 13]\n"
     ]
    }
   ],
   "source": [
    "product_matrix = []\n",
    "for i in range(n-1):\n",
    "    p = 0\n",
    "    if row_ind[i] != row_ind[i+1]:\n",
    "        for j in range(row_ind[i],row_ind[i+1]):\n",
    "            p = p + vector[col_ind[j]][0]*value[j]\n",
    "    product_matrix.append(p)\n",
    "p=0\n",
    "for i in range(row_ind[n-1],N):\n",
    "    p = p + vector[col_ind[i]][0]*value[i]\n",
    "product_matrix.append(p)\n",
    "print(product_matrix)"
   ]
  },
  {
   "cell_type": "code",
   "execution_count": null,
   "id": "ef58fa5d",
   "metadata": {},
   "outputs": [],
   "source": []
  },
  {
   "cell_type": "code",
   "execution_count": null,
   "id": "4e7e2b48",
   "metadata": {},
   "outputs": [],
   "source": []
  },
  {
   "cell_type": "code",
   "execution_count": null,
   "id": "4994789d",
   "metadata": {},
   "outputs": [],
   "source": []
  }
 ],
 "metadata": {
  "kernelspec": {
   "display_name": "Python 3 (ipykernel)",
   "language": "python",
   "name": "python3"
  },
  "language_info": {
   "codemirror_mode": {
    "name": "ipython",
    "version": 3
   },
   "file_extension": ".py",
   "mimetype": "text/x-python",
   "name": "python",
   "nbconvert_exporter": "python",
   "pygments_lexer": "ipython3",
   "version": "3.11.4"
  }
 },
 "nbformat": 4,
 "nbformat_minor": 5
}

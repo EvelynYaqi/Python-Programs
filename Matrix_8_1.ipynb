{
 "cells": [
  {
   "cell_type": "code",
   "execution_count": null,
   "id": "c1bdd13e",
   "metadata": {},
   "outputs": [],
   "source": [
    "import csv\n",
    "A=[]\n",
    "B=[]\n",
    "with open('data.csv','r') as file:\n",
    "    csv_reader = csv.reader(file)\n",
    "    for row in csv_reader:\n",
    "        data = []\n",
    "        for i in range(row_A):\n",
    "            p = int(row[0])\n",
    "            data.append(p**(i+1))\n",
    "        A.append(data)\n",
    "        B.append(row[1])\n",
    "print(A)\n",
    "print(B)"
   ]
  },
  {
   "cell_type": "code",
   "execution_count": null,
   "id": "3cfc867e",
   "metadata": {},
   "outputs": [],
   "source": []
  }
 ],
 "metadata": {
  "kernelspec": {
   "display_name": "Python 3 (ipykernel)",
   "language": "python",
   "name": "python3"
  },
  "language_info": {
   "codemirror_mode": {
    "name": "ipython",
    "version": 3
   },
   "file_extension": ".py",
   "mimetype": "text/x-python",
   "name": "python",
   "nbconvert_exporter": "python",
   "pygments_lexer": "ipython3",
   "version": "3.11.4"
  }
 },
 "nbformat": 4,
 "nbformat_minor": 5
}

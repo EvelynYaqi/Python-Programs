{
 "cells": [
  {
   "cell_type": "markdown",
   "id": "23964ea1",
   "metadata": {},
   "source": [
    "# Documentation\n",
    "\n",
    "\n",
    "## CSV file entry rules:\n",
    "\n",
    "#### The coefficients obtained using this code for a nth order polynomial would be the coefficients of terms from x^n to x to constant, hence, the output/ dependent variable fed into the data should be of the form, 'x,f(x)' .\n",
    "\n",
    "\n",
    "#### The first 'n+1' observations will be taken into consideration, hence the 'data.csv' must have at least n+1 entries."
   ]
  },
  {
   "cell_type": "markdown",
   "id": "0575623a",
   "metadata": {},
   "source": [
    "# Defining back substitution"
   ]
  },
  {
   "cell_type": "code",
   "execution_count": 205,
   "id": "55f24735",
   "metadata": {},
   "outputs": [],
   "source": [
    "def back_substitution(matrix, vector,n):\n",
    "    x = [0] * n  \n",
    "    for i in range(n - 1, -1, -1):  \n",
    "        x[i] = vector[i] / matrix[i][i]  \n",
    "        for j in range(i):\n",
    "            vector[j] -= matrix[j][i] * x[i]\n",
    "    return x"
   ]
  },
  {
   "cell_type": "markdown",
   "id": "bc662b04",
   "metadata": {},
   "source": [
    "# Finding the transpose"
   ]
  },
  {
   "cell_type": "code",
   "execution_count": 206,
   "id": "d4b52819",
   "metadata": {},
   "outputs": [],
   "source": [
    "def transpose(matrix):\n",
    "    rows = len(matrix)\n",
    "    cols = len(matrix[0])\n",
    "    trans_matrix = [[0 for _ in range(rows)] for _ in range(cols)]\n",
    "    for i in range(rows):\n",
    "        for j in range(cols):\n",
    "            trans_matrix[j][i] = matrix[i][j]\n",
    "    return(trans_matrix)"
   ]
  },
  {
   "cell_type": "markdown",
   "id": "5f5bb7a7",
   "metadata": {},
   "source": [
    "# Matrix multiplication"
   ]
  },
  {
   "cell_type": "code",
   "execution_count": 207,
   "id": "f2362576",
   "metadata": {},
   "outputs": [],
   "source": [
    "def mat_multiply(m1 , m2): # m1 * m2 ; c1 = r2\n",
    "    r1 = len(m1)\n",
    "    r2 = len(m2)\n",
    "    #c1 = len(m1[0])\n",
    "    if type(m2[0]) == float:\n",
    "        c2 = 1\n",
    "        product = [0 for _ in range(r1)]\n",
    "        for i in range(r1):\n",
    "            for j in range(r2):\n",
    "                product[i] = product[i] + m1[i][j]*m2[j]\n",
    "    else:\n",
    "        c2 = len(m2[0])\n",
    "        product = [[0 for _ in range(c2)] for _ in range(r1)]\n",
    "        for i in range(r1):\n",
    "            for j in range(c2): # r2 here means c1\n",
    "                for k in range(r2):\n",
    "                    product[i][j] = product[i][j] + m1[i][k]*m2[k][j]\n",
    "    return(product)"
   ]
  },
  {
   "cell_type": "markdown",
   "id": "752822a4",
   "metadata": {},
   "source": [
    "# Importing Matrix"
   ]
  },
  {
   "cell_type": "code",
   "execution_count": 208,
   "id": "cb23a16d",
   "metadata": {},
   "outputs": [
    {
     "name": "stdout",
     "output_type": "stream",
     "text": [
      "Enter the order of the polynomial: 3\n",
      "[[1, 96.0, 9216.0, 884736.0], [1, 95.0, 9025.0, 857375.0], [1, 94.0, 8836.0, 830584.0], [1, 92.0, 8464.0, 778688.0], [1, 86.0, 7396.0, 636056.0], [1, 80.0, 6400.0, 512000.0], [1, 79.0, 6241.0, 493039.0], [1, 78.0, 6084.0, 474552.0], [1, 75.0, 5625.0, 421875.0], [1, 72.0, 5184.0, 373248.0], [1, 70.0, 4900.0, 343000.0], [1, 68.0, 4624.0, 314432.0], [1, 67.0, 4489.0, 300763.0], [1, 65.0, 4225.0, 274625.0], [1, 56.0, 3136.0, 175616.0], [1, 55.0, 3025.0, 166375.0], [1, 51.0, 2601.0, 132651.0], [1, 47.0, 2209.0, 103823.0], [1, 44.0, 1936.0, 85184.0], [1, 42.0, 1764.0, 74088.0], [1, 38.0, 1444.0, 54872.0], [1, 37.0, 1369.0, 50653.0], [1, 36.0, 1296.0, 46656.0], [1, 35.0, 1225.0, 42875.0], [1, 33.0, 1089.0, 35937.0], [1, 32.0, 1024.0, 32768.0], [1, 29.0, 841.0, 24389.0], [1, 28.0, 784.0, 21952.0], [1, 27.0, 729.0, 19683.0], [1, 24.0, 576.0, 13824.0], [1, 23.0, 529.0, 12167.0], [1, 21.0, 441.0, 9261.0], [1, 11.0, 121.0, 1331.0], [1, 8.0, 64.0, 512.0], [1, 7.0, 49.0, 343.0], [1, 6.0, 36.0, 216.0], [1, 5.0, 25.0, 125.0], [1, 3.0, 9.0, 27.0], [1, 1.0, 1.0, 1.0], [1, -3.0, 9.0, -27.0], [1, -9.0, 81.0, -729.0], [1, -10.0, 100.0, -1000.0], [1, -11.0, 121.0, -1331.0], [1, -13.0, 169.0, -2197.0], [1, -15.0, 225.0, -3375.0], [1, -16.0, 256.0, -4096.0], [1, -18.0, 324.0, -5832.0], [1, -20.0, 400.0, -8000.0], [1, -21.0, 441.0, -9261.0], [1, -25.0, 625.0, -15625.0], [1, -26.0, 676.0, -17576.0], [1, -29.0, 841.0, -24389.0], [1, -31.0, 961.0, -29791.0], [1, -33.0, 1089.0, -35937.0], [1, -36.0, 1296.0, -46656.0], [1, -38.0, 1444.0, -54872.0], [1, -39.0, 1521.0, -59319.0], [1, -41.0, 1681.0, -68921.0], [1, -43.0, 1849.0, -79507.0], [1, -49.0, 2401.0, -117649.0], [1, -51.0, 2601.0, -132651.0], [1, -52.0, 2704.0, -140608.0], [1, -53.0, 2809.0, -148877.0], [1, -58.0, 3364.0, -195112.0], [1, -59.0, 3481.0, -205379.0], [1, -60.0, 3600.0, -216000.0], [1, -61.0, 3721.0, -226981.0], [1, -62.0, 3844.0, -238328.0], [1, -65.0, 4225.0, -274625.0], [1, -66.0, 4356.0, -287496.0], [1, -70.0, 4900.0, -343000.0], [1, -74.0, 5476.0, -405224.0], [1, -84.0, 7056.0, -592704.0], [1, -89.0, 7921.0, -704969.0], [1, -97.0, 9409.0, -912673.0]]\n",
      "[2672730.0, 2590279.0, 2509523.0, 2353076.0, 1923046.0, 1548884.0, 1491669.0, 1435904.0, 1276944.0, 1130183.0, 1038876.0, 952611.0, 911327.0, 832398.0, 533172.0, 505233.0, 403212.0, 315940.0, 259472.0, 225831.0, 167533.0, 154726.0, 142586.0, 131104.0, 110026.0, 100394.0, 74879.0, 67449.0, 60526.0, 42655.0, 37582.0, 28688.0, 4246.0, 1680.0, 1140.0, 725.0, 437.0, 110.0, 10.0, -57.0, -2029.0, -2812.0, -3770.0, -6268.0, -9698.0, -11785.0, -16871.0, -23215.0, -26915.0, -45650.0, -51406.0, -71511.0, -87483.0, -105674.0, -137406.0, -161768.0, -174944.0, -203450.0, -234873.0, -348199.0, -392803.0, -416458.0, -441059.0, -578673.0, -609240.0, -640868.0, -673554.0, -707364.0, -815487.0, -853832.0, -1019263.0, -1204794.0, -1764094.0, -2099156.0, -2719308.0]\n",
      "[[75, 289.0, 203009.0, 2989585.0], [289.0, 203009.0, 2989585.0, 1080430745.0], [203009.0, 2989585.0, 1080430745.0, 25432987369.0], [2989585.0, 1080430745.0, 25432987369.0, 7215352635569.0]]\n",
      "[9375069.0, 3247475494.0, 78462644072.0, 21698015411464.0]\n"
     ]
    }
   ],
   "source": [
    "import csv\n",
    "A=[]\n",
    "B=[]\n",
    "row_A = int(input(\"Enter the order of the polynomial: \"))\n",
    "row_A = row_A + 1\n",
    "with open('data.csv','r') as file:\n",
    "    csv_reader = csv.reader(file)\n",
    "    header = next(csv_reader)\n",
    "    for row in csv_reader:\n",
    "        data = []\n",
    "        for i in range(row_A):\n",
    "            p = float(row[0])\n",
    "            if i == 0 :\n",
    "                data.append(1)\n",
    "            else:\n",
    "                data.append(p**i)\n",
    "        A.append(data)\n",
    "        B.append(float(row[1]))\n",
    "print(A)\n",
    "print(B)\n",
    "A_t = transpose(A)\n",
    "A_f = mat_multiply(A_t,A)\n",
    "B_f = mat_multiply(A_t,B)\n",
    "print(A_f)\n",
    "print(B_f)"
   ]
  },
  {
   "cell_type": "markdown",
   "id": "91a644ff",
   "metadata": {},
   "source": [
    "# Applying Gaussian Elimination"
   ]
  },
  {
   "cell_type": "code",
   "execution_count": 209,
   "id": "2f090b8f",
   "metadata": {
    "scrolled": true
   },
   "outputs": [
    {
     "name": "stdout",
     "output_type": "stream",
     "text": [
      "A =  [[75, 289.0, 203009.0, 2989585.0], [0.0, 15142154.0, 165549274.0, 80168315810.0], [0.0, 0.0, 5.755487375691971e+17, 6.421494395036275e+18], [0.0, 0.0, 0.0, 8.980052163713381e+38]] B =  [9375069.0, 240851267109.0, 2.04153540159827e+19, 2.6940205328710425e+39]\n"
     ]
    }
   ],
   "source": [
    "for i in range(1,row_A):\n",
    "    for j in range(i):\n",
    "        list1 = [x * A_f[j][j] for x in A_f[i]]\n",
    "        list2 = [x * A_f[i][j] for x in A_f[j]]\n",
    "        B_f[i] = A_f[j][j]*B_f[i] - A_f[i][j]*B_f[j]\n",
    "        A_f[i] = [x - y for x, y in zip(list1, list2)]\n",
    "print(\"A = \",A_f,\"B = \",B_f)"
   ]
  },
  {
   "cell_type": "markdown",
   "id": "f1da7e6d",
   "metadata": {},
   "source": [
    "# Solving Equations using the matrices"
   ]
  },
  {
   "cell_type": "code",
   "execution_count": 210,
   "id": "16b6304c",
   "metadata": {},
   "outputs": [
    {
     "name": "stdout",
     "output_type": "stream",
     "text": [
      "Solution: [3.0000054384506227, 1.9995455341526476, 0.9813911590157179, 1.178398691263836]\n"
     ]
    }
   ],
   "source": [
    "C = []\n",
    "blow = 0\n",
    "for i in range(row_A):\n",
    "    if A_f[i][i] == 0:\n",
    "        if B_f[i] == 0:\n",
    "            #print(\"Infinite solutions\")\n",
    "            blow = 1\n",
    "        else : \n",
    "            #print(\"No solution\")\n",
    "            blow = 2\n",
    "            break\n",
    "if blow == 2:\n",
    "    print(\"No solution\")\n",
    "elif blow == 1:\n",
    "    print(\"Infinite solutions\")\n",
    "else:\n",
    "    solution = back_substitution(A_f, B_f, row_A)\n",
    "    solution.reverse()\n",
    "    print(\"Solution:\", solution)\n",
    "    solution.reverse()\n"
   ]
  },
  {
   "cell_type": "markdown",
   "id": "4041e573",
   "metadata": {},
   "source": [
    "# Generating an illustrative graph"
   ]
  },
  {
   "cell_type": "code",
   "execution_count": 211,
   "id": "8f528363",
   "metadata": {},
   "outputs": [],
   "source": [
    "x=[]\n",
    "y=[]\n",
    "with open('data.csv','r') as file:\n",
    "    csv_reader = csv.reader(file)\n",
    "    header = next(csv_reader)\n",
    "    for row in csv_reader:\n",
    "        p = float(row[0])\n",
    "        q = float(row[1])\n",
    "        x.append(p)\n",
    "        y.append(q)"
   ]
  },
  {
   "cell_type": "code",
   "execution_count": 212,
   "id": "bd83ceec",
   "metadata": {},
   "outputs": [
    {
     "data": {
      "image/png": "[encoded data removed]",
      "text/plain": [
       "<Figure size 640x480 with 1 Axes>"
      ]
     },
     "metadata": {},
     "output_type": "display_data"
    }
   ],
   "source": [
    "import matplotlib.pyplot as plt\n",
    "plt.scatter(x, y)\n",
    "n = len(x)\n",
    "# Customize the plot\n",
    "plt.title('Scatter Plot of Points')\n",
    "plt.xlabel('X-axis')\n",
    "plt.ylabel('Y-axis')\n",
    "plt.grid(True)\n",
    "\n",
    "# Display the plot\n",
    "plt.show()"
   ]
  },
  {
   "cell_type": "code",
   "execution_count": 213,
   "id": "4c23df3a",
   "metadata": {
    "scrolled": true
   },
   "outputs": [
    {
     "data": {
      "image/png": "[encoded data removed]",
      "text/plain": [
       "<Figure size 640x480 with 1 Axes>"
      ]
     },
     "metadata": {},
     "output_type": "display_data"
    }
   ],
   "source": [
    "y1 = [0 for _ in range(n)]\n",
    "#print(x)\n",
    "for i in range(n):\n",
    "    for j in range(row_A):\n",
    "        y1[i] = y1[i] + solution[j]*((x[i])**(j))\n",
    "    #print(y1[i])\n",
    "#print(y1,solution)\n",
    "plt.plot(x, y1, color=(0.8, 0, 0))\n",
    "plt.scatter(x, y, color=(0.5, 0.5, 0.5), marker = '*')\n",
    "\n",
    "# Customize the plot\n",
    "plt.title('Generated polynomial')\n",
    "plt.xlabel('X-axis')\n",
    "plt.ylabel('Y-axis')\n",
    "plt.grid(True)\n",
    "\n",
    "# Display the plot\n",
    "plt.show()"
   ]
  },
  {
   "cell_type": "code",
   "execution_count": null,
   "id": "6807106d",
   "metadata": {},
   "outputs": [],
   "source": []
  }
 ],
 "metadata": {
  "kernelspec": {
   "display_name": "Python 3 (ipykernel)",
   "language": "python",
   "name": "python3"
  },
  "language_info": {
   "codemirror_mode": {
    "name": "ipython",
    "version": 3
   },
   "file_extension": ".py",
   "mimetype": "text/x-python",
   "name": "python",
   "nbconvert_exporter": "python",
   "pygments_lexer": "ipython3",
   "version": "3.11.4"
  }
 },
 "nbformat": 4,
 "nbformat_minor": 5
}

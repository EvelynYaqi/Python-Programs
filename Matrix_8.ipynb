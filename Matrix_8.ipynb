{
 "cells": [
  {
   "cell_type": "markdown",
   "id": "23964ea1",
   "metadata": {},
   "source": [
    "# Documentation\n",
    "\n",
    "\n",
    "## CSV file entry rules:\n",
    "\n",
    "#### The coefficients obtained using this code for a nth order polynomial would be the coefficients of terms from x^n to x to constant, hence, the output/ dependent variable fed into the data should be of the form, 'x,f(x)' .\n",
    "\n",
    "\n",
    "#### The first 'n+1' observations will be taken into consideration, hence the 'data.csv' must have at least n+1 entries."
   ]
  },
  {
   "cell_type": "markdown",
   "id": "0575623a",
   "metadata": {},
   "source": [
    "#defining back substitution"
   ]
  },
  {
   "cell_type": "code",
   "execution_count": 19,
   "id": "55f24735",
   "metadata": {},
   "outputs": [],
   "source": [
    "def back_substitution(matrix, vector,n):\n",
    "    x = [0] * n  \n",
    "    for i in range(n - 1, -1, -1):  \n",
    "        x[i] = vector[i] / matrix[i][i]  \n",
    "        for j in range(i):\n",
    "            vector[j] -= matrix[j][i] * x[i]\n",
    "    return x"
   ]
  },
  {
   "cell_type": "markdown",
   "id": "bc662b04",
   "metadata": {},
   "source": [
    "#Finding the transpose"
   ]
  },
  {
   "cell_type": "code",
   "execution_count": 20,
   "id": "d4b52819",
   "metadata": {},
   "outputs": [],
   "source": [
    "def transpose(matrix):\n",
    "    rows = len(matrix)\n",
    "    cols = len(matrix[0])\n",
    "    trans_matrix = [[0 for _ in range(rows)] for _ in range(cols)]\n",
    "    for i in range(rows):\n",
    "        for j in range(cols):\n",
    "            trans_matrix[j][i] = matrix[i][j]\n",
    "    return(trans_matrix)"
   ]
  },
  {
   "cell_type": "markdown",
   "id": "5f5bb7a7",
   "metadata": {},
   "source": [
    "#Matrix multiplication"
   ]
  },
  {
   "cell_type": "code",
   "execution_count": 21,
   "id": "f2362576",
   "metadata": {},
   "outputs": [],
   "source": [
    "def mat_multiply(m1 , m2): # m1 * m2 ; c1 = r2\n",
    "    r1 = len(m1)\n",
    "    r2 = len(m2)\n",
    "    #c1 = len(m1[0])\n",
    "    if type(m2[0]) == float:\n",
    "        c2 = 1\n",
    "        product = [[0 for _ in range(r1)] for _ in range(c2)]\n",
    "        for i in range(r1):\n",
    "            for j in range(r2):\n",
    "                product[i][j] = product[i][j] + m1[i][j]*m2[j]\n",
    "    else:\n",
    "        c2 = len(m2[0])\n",
    "        product = [[0 for _ in range(r1)] for _ in range(c2)]\n",
    "        for i in range(r1):\n",
    "            for j in range(r2): # r2 here means c1\n",
    "                for k in range(c2):\n",
    "                    product[i][j] = product[i][j] + m1[i][k]*m2[k][j]\n",
    "    return(product)"
   ]
  },
  {
   "cell_type": "markdown",
   "id": "752822a4",
   "metadata": {},
   "source": [
    "#Importing Matrix"
   ]
  },
  {
   "cell_type": "code",
   "execution_count": 22,
   "id": "cb23a16d",
   "metadata": {},
   "outputs": [
    {
     "name": "stdout",
     "output_type": "stream",
     "text": [
      "Enter the order of the polynomial: 5\n",
      "[[1, 0.0, 0.0, 0.0, 0.0, 0.0], [1, 1.0, 1.0, 1.0, 1.0, 1.0], [1, -1.0, 1.0, -1.0, 1.0, -1.0], [1, 2.0, 4.0, 8.0, 16.0, 32.0], [1, -2.0, 4.0, -8.0, 16.0, -32.0], [1, 3.0, 9.0, 27.0, 81.0, 243.0]]\n",
      "[1.0, 6.0, 0.0, 63.0, -21.0, 364.0]\n"
     ]
    },
    {
     "ename": "IndexError",
     "evalue": "list index out of range",
     "output_type": "error",
     "traceback": [
      "\u001b[0;31m---------------------------------------------------------------------------\u001b[0m",
      "\u001b[0;31mIndexError\u001b[0m                                Traceback (most recent call last)",
      "Cell \u001b[0;32mIn[22], line 21\u001b[0m\n\u001b[1;32m     19\u001b[0m A_t \u001b[38;5;241m=\u001b[39m transpose(A)\n\u001b[1;32m     20\u001b[0m A_f \u001b[38;5;241m=\u001b[39m mat_multiply(A_t,A)\n\u001b[0;32m---> 21\u001b[0m B_f \u001b[38;5;241m=\u001b[39m mat_multiply(A_t,B)\n\u001b[1;32m     22\u001b[0m \u001b[38;5;28mprint\u001b[39m(A_f)\n\u001b[1;32m     23\u001b[0m \u001b[38;5;28mprint\u001b[39m(B_f)\n",
      "Cell \u001b[0;32mIn[21], line 10\u001b[0m, in \u001b[0;36mmat_multiply\u001b[0;34m(m1, m2)\u001b[0m\n\u001b[1;32m      8\u001b[0m     \u001b[38;5;28;01mfor\u001b[39;00m i \u001b[38;5;129;01min\u001b[39;00m \u001b[38;5;28mrange\u001b[39m(r1):\n\u001b[1;32m      9\u001b[0m         \u001b[38;5;28;01mfor\u001b[39;00m j \u001b[38;5;129;01min\u001b[39;00m \u001b[38;5;28mrange\u001b[39m(r2):\n\u001b[0;32m---> 10\u001b[0m             product[i][j] \u001b[38;5;241m=\u001b[39m product[i][j] \u001b[38;5;241m+\u001b[39m m1[i][j]\u001b[38;5;241m*\u001b[39mm2[j]\n\u001b[1;32m     11\u001b[0m \u001b[38;5;28;01melse\u001b[39;00m:\n\u001b[1;32m     12\u001b[0m     c2 \u001b[38;5;241m=\u001b[39m \u001b[38;5;28mlen\u001b[39m(m2[\u001b[38;5;241m0\u001b[39m])\n",
      "\u001b[0;31mIndexError\u001b[0m: list index out of range"
     ]
    }
   ],
   "source": [
    "import csv\n",
    "A=[]\n",
    "B=[]\n",
    "row_A = int(input(\"Enter the order of the polynomial: \"))\n",
    "with open('data.csv','r') as file:\n",
    "    csv_reader = csv.reader(file)\n",
    "    for row in csv_reader:\n",
    "        data = []\n",
    "        for i in range(row_A+1):\n",
    "            p = float(row[0])\n",
    "            if i == 0 :\n",
    "                data.append(1)\n",
    "            else:\n",
    "                data.append(p**i)\n",
    "        A.append(data)\n",
    "        B.append(float(row[1]))\n",
    "print(A)\n",
    "print(B)\n",
    "A_t = transpose(A)\n",
    "A_f = mat_multiply(A_t,A)\n",
    "B_f = mat_multiply(A_t,B)\n",
    "print(A_f)\n",
    "print(B_f)"
   ]
  },
  {
   "cell_type": "markdown",
   "id": "91a644ff",
   "metadata": {},
   "source": [
    "# Applying Gaussian Elimination"
   ]
  },
  {
   "cell_type": "code",
   "execution_count": null,
   "id": "2f090b8f",
   "metadata": {
    "scrolled": true
   },
   "outputs": [],
   "source": [
    "for i in range(1,row_A):\n",
    "    for j in range(i):\n",
    "        list1 = [x * A_f[j][j] for x in A_f[i]]\n",
    "        list2 = [x * A_f[i][j] for x in A_f[j]]\n",
    "        B_f[i] = A_f[j][j]*B_f[i] - A_f[i][j]*B_f[j]\n",
    "        A_f[i] = [x - y for x, y in zip(list1, list2)]\n",
    "print(\"A = \",A_f,\"B = \",B_f)"
   ]
  },
  {
   "cell_type": "markdown",
   "id": "f1da7e6d",
   "metadata": {},
   "source": [
    "#Solving Equations using the matrices"
   ]
  },
  {
   "cell_type": "code",
   "execution_count": null,
   "id": "16b6304c",
   "metadata": {},
   "outputs": [],
   "source": [
    "C = []\n",
    "blow = 0\n",
    "for i in range(row_A):\n",
    "    if A_f[i][i] == 0:\n",
    "        if B_f[i] == 0:\n",
    "            #print(\"Infinite solutions\")\n",
    "            blow = 1\n",
    "        else : \n",
    "            #print(\"No solution\")\n",
    "            blow = 2\n",
    "            break\n",
    "if blow == 2:\n",
    "    print(\"No solution\")\n",
    "elif blow == 1:\n",
    "    print(\"Infinite solutions\")\n",
    "else:\n",
    "    solution = back_substitution(A_f, B_f, row_A)\n",
    "    solution.reverse()\n",
    "    print(\"Solution:\", solution)\n",
    "    \n"
   ]
  },
  {
   "cell_type": "code",
   "execution_count": null,
   "id": "b664cf23",
   "metadata": {},
   "outputs": [],
   "source": []
  },
  {
   "cell_type": "code",
   "execution_count": null,
   "id": "52ad81e4",
   "metadata": {},
   "outputs": [],
   "source": []
  },
  {
   "cell_type": "code",
   "execution_count": null,
   "id": "941dc9f7",
   "metadata": {},
   "outputs": [],
   "source": []
  },
  {
   "cell_type": "code",
   "execution_count": null,
   "id": "d9d0bff0",
   "metadata": {},
   "outputs": [],
   "source": []
  },
  {
   "cell_type": "code",
   "execution_count": null,
   "id": "4b76c818",
   "metadata": {},
   "outputs": [],
   "source": []
  },
  {
   "cell_type": "code",
   "execution_count": null,
   "id": "d64048d3",
   "metadata": {},
   "outputs": [],
   "source": []
  },
  {
   "cell_type": "code",
   "execution_count": null,
   "id": "3809d119",
   "metadata": {},
   "outputs": [],
   "source": []
  },
  {
   "cell_type": "code",
   "execution_count": null,
   "id": "6f95f5d1",
   "metadata": {},
   "outputs": [],
   "source": []
  },
  {
   "cell_type": "code",
   "execution_count": null,
   "id": "01696c18",
   "metadata": {},
   "outputs": [],
   "source": []
  },
  {
   "cell_type": "code",
   "execution_count": null,
   "id": "5a5f6f4c",
   "metadata": {},
   "outputs": [],
   "source": []
  }
 ],
 "metadata": {
  "kernelspec": {
   "display_name": "Python 3 (ipykernel)",
   "language": "python",
   "name": "python3"
  },
  "language_info": {
   "codemirror_mode": {
    "name": "ipython",
    "version": 3
   },
   "file_extension": ".py",
   "mimetype": "text/x-python",
   "name": "python",
   "nbconvert_exporter": "python",
   "pygments_lexer": "ipython3",
   "version": "3.11.4"
  }
 },
 "nbformat": 4,
 "nbformat_minor": 5
}

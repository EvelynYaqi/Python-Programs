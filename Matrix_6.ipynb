{
 "cells": [
  {
   "cell_type": "markdown",
   "id": "0575623a",
   "metadata": {},
   "source": [
    "#defining back substitution"
   ]
  },
  {
   "cell_type": "code",
   "execution_count": 1,
   "id": "55f24735",
   "metadata": {},
   "outputs": [],
   "source": [
    "def back_substitution(matrix, vector,n):\n",
    "    x = [0] * n  \n",
    "    for i in range(n - 1, -1, -1):  \n",
    "        x[i] = vector[i] / matrix[i][i]  \n",
    "        for j in range(i):\n",
    "            vector[j] -= matrix[j][i] * x[i]\n",
    "    return x"
   ]
  },
  {
   "cell_type": "markdown",
   "id": "752822a4",
   "metadata": {},
   "source": [
    "#Importing Matrix"
   ]
  },
  {
   "cell_type": "code",
   "execution_count": 2,
   "id": "cb23a16d",
   "metadata": {},
   "outputs": [
    {
     "name": "stdout",
     "output_type": "stream",
     "text": [
      "Format : Ax=B\n",
      "Enter the dimension of input matrix:4\n",
      "Value of A[1,1] : 1\n",
      "Value of A[1,2] : 1\n",
      "Value of A[1,3] : 1\n",
      "Value of A[1,4] : 1\n",
      "Value of A[2,1] : 1\n",
      "Value of A[2,2] : 2\n",
      "Value of A[2,3] : 4\n",
      "Value of A[2,4] : 8\n",
      "Value of A[3,1] : 1\n",
      "Value of A[3,2] : 3\n",
      "Value of A[3,3] : 9\n",
      "Value of A[3,4] : 27\n",
      "Value of A[4,1] : 1\n",
      "Value of A[4,2] : 4\n",
      "Value of A[4,3] : 16\n",
      "Value of A[4,4] : 64\n",
      "Value of B[1,1] :0\n",
      "Value of B[2,1] :0\n",
      "Value of B[3,1] :0\n",
      "Value of B[4,1] :6\n",
      "[[1, 1, 1, 1], [1, 2, 4, 8], [1, 3, 9, 27], [1, 4, 16, 64]]\n",
      "[0, 0, 0, 6]\n"
     ]
    }
   ],
   "source": [
    "print(\"Format : Ax=B\")\n",
    "A=[]\n",
    "row_A = col_A = int(input(\"Enter the dimension of input matrix:\"))\n",
    "for i in range(row_A):\n",
    "    row = []\n",
    "    for j in range(col_A):\n",
    "        k = int(input(f\"Value of A[{i+1},{j+1}] : \"))\n",
    "        row.append(k)\n",
    "    A.append(row)\n",
    "B=[]\n",
    "for i in range(row_A):\n",
    "    k = int(input(f\"Value of B[{i+1},{1}] :\"))\n",
    "    B.append(k)\n",
    "print(A)\n",
    "print(B)"
   ]
  },
  {
   "cell_type": "markdown",
   "id": "91a644ff",
   "metadata": {},
   "source": [
    "# Applying Gaussian Elimination"
   ]
  },
  {
   "cell_type": "code",
   "execution_count": 3,
   "id": "2f090b8f",
   "metadata": {
    "scrolled": true
   },
   "outputs": [
    {
     "name": "stdout",
     "output_type": "stream",
     "text": [
      "A =  [[1, 1, 1, 1], [0, 1, 3, 7], [0, 0, 2, 12], [0, 0, 0, 12]] B =  [0, 0, 0, 12]\n"
     ]
    }
   ],
   "source": [
    "for i in range(1,row_A):\n",
    "    for j in range(i):\n",
    "        list1 = [x * A[j][j] for x in A[i]]\n",
    "        list2 = [x * A[i][j] for x in A[j]]\n",
    "        B[i] = A[j][j]*B[i] - A[i][j]*B[j]\n",
    "        A[i] = [x - y for x, y in zip(list1, list2)]\n",
    "print(\"A = \",A ,\"B = \",B)"
   ]
  },
  {
   "cell_type": "markdown",
   "id": "f1da7e6d",
   "metadata": {},
   "source": [
    "#Solving Equations using the matrices"
   ]
  },
  {
   "cell_type": "code",
   "execution_count": 4,
   "id": "16b6304c",
   "metadata": {},
   "outputs": [
    {
     "name": "stdout",
     "output_type": "stream",
     "text": [
      "Solution: [-6.0, 11.0, -6.0, 1.0]\n"
     ]
    }
   ],
   "source": [
    "C = []\n",
    "blow = 0\n",
    "for i in range(row_A):\n",
    "    if A[i][i] == 0:\n",
    "        if B[i] == 0:\n",
    "            print(\"Infinite solutions\")\n",
    "            blow = 1\n",
    "        else : \n",
    "            print(\"No solution\")\n",
    "            blow = 2\n",
    "if blow == 0:\n",
    "    solution = back_substitution(A, B, row_A)\n",
    "    print(\"Solution:\", solution)\n"
   ]
  },
  {
   "cell_type": "code",
   "execution_count": null,
   "id": "c9a2c856",
   "metadata": {},
   "outputs": [],
   "source": []
  },
  {
   "cell_type": "code",
   "execution_count": null,
   "id": "93a64c20",
   "metadata": {},
   "outputs": [],
   "source": []
  }
 ],
 "metadata": {
  "kernelspec": {
   "display_name": "Python 3 (ipykernel)",
   "language": "python",
   "name": "python3"
  },
  "language_info": {
   "codemirror_mode": {
    "name": "ipython",
    "version": 3
   },
   "file_extension": ".py",
   "mimetype": "text/x-python",
   "name": "python",
   "nbconvert_exporter": "python",
   "pygments_lexer": "ipython3",
   "version": "3.11.4"
  }
 },
 "nbformat": 4,
 "nbformat_minor": 5
}
